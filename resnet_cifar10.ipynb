{
 "cells": [
  {
   "cell_type": "code",
   "execution_count": 12,
   "metadata": {},
   "outputs": [],
   "source": [
    "import numpy as np\n",
    "import pandas as pd \n",
    "import keras \n",
    "from keras.layers import *\n",
    "from keras.models import *\n",
    "from keras.activations import *\n",
    "from keras.layers import Conv2D\n",
    "from keras.backend import int_shape \n",
    "from keras.datasets import *"
   ]
  },
  {
   "cell_type": "code",
   "execution_count": 13,
   "metadata": {},
   "outputs": [],
   "source": [
    "def identity_block (X,fil,filters,stage,block):\n",
    "    F1,F2,F3 = filters \n",
    "    X_shortcut = X\n",
    "    \n",
    "    X = Conv2D(filters = F1,kernel_size = (1,1),strides = (1,1),\n",
    "               padding = 'valid')(X)\n",
    "    X = BatchNormalization (axis = 3)(X)\n",
    "    X = Activation('relu')(X)\n",
    "    \n",
    "    X = Conv2D(filters = F2,kernel_size = (fil,fil),strides = (1,1),\n",
    "               padding = 'same')(X)\n",
    "    X = BatchNormalization (axis = 3)(X)\n",
    "    X = Activation('relu')(X)\n",
    "    \n",
    "    X = Conv2D(filters = F3,kernel_size = (1,1),strides = (1,1),\n",
    "               padding = 'valid')(X)\n",
    "    X = BatchNormalization (axis = 3)(X)\n",
    "    \n",
    "    X = Add()([X,X_shortcut])\n",
    "    X = Activation('relu')(X)\n",
    "    \n",
    "    return X"
   ]
  },
  {
   "cell_type": "code",
   "execution_count": 14,
   "metadata": {},
   "outputs": [],
   "source": [
    "def convolutional_block (X,f,filters,stage,block,s=2):\n",
    "    F1,F2,F3 = filters \n",
    "    X_shortcut = X\n",
    "    \n",
    "    X = Conv2D(filters = F1,kernel_size = (1,1),strides = (s,s),\n",
    "               padding = 'valid')(X)\n",
    "    X = BatchNormalization (axis = 3)(X)\n",
    "    X = Activation('relu')(X)\n",
    "    \n",
    "    X = Conv2D(filters = F2,kernel_size = (f,f),strides = (1,1),\n",
    "               padding = 'same')(X)\n",
    "    X = BatchNormalization (axis = 3)(X)\n",
    "    X = Activation('relu')(X)\n",
    "    \n",
    "    X = Conv2D(filters = F3,kernel_size = (1,1),strides = (1,1),\n",
    "               padding = 'valid')(X)\n",
    "    X = BatchNormalization (axis = 3)(X)\n",
    "    X = Activation('relu')(X)\n",
    "    \n",
    "    X_shortcut = Conv2D(filters = F3,kernel_size = (1,1),\n",
    "                        strides = (s,s),padding = 'valid')(X_shortcut)\n",
    "    X_shortcut = BatchNormalization (axis =3)(X_shortcut)\n",
    "    \n",
    "    X = Add()([X,X_shortcut])\n",
    "    print(int_shape(X))\n",
    "    print(int_shape(X_shortcut))\n",
    "    X = Activation('relu')(X)\n",
    "    \n",
    "    return X\n",
    "    "
   ]
  },
  {
   "cell_type": "code",
   "execution_count": 15,
   "metadata": {},
   "outputs": [],
   "source": [
    "def ResNet50(input_shape = (64, 64, 3), classes = 10):\n",
    "    \n",
    "    # Define the input as a tensor with shape input_shape\n",
    "    X_input = Input(input_shape)\n",
    "\n",
    "    # Zero-Padding\n",
    "    X = ZeroPadding2D((3, 3))(X_input)\n",
    "    \n",
    "    X = Conv2D(64, (7, 7), strides = (2, 2), name = 'conv1')(X)\n",
    "    X = BatchNormalization(axis = 3, name = 'bn_conv1')(X)\n",
    "    X = Activation('relu')(X)\n",
    "    X = MaxPooling2D((3, 3), strides=(2, 2))(X)\n",
    "\n",
    "    X = convolutional_block(X, f = 3, filters = [64, 64, 256], stage = 2, block='a', s = 1)\n",
    "    X = identity_block(X, 3, [64, 64, 256], stage=2, block='b')\n",
    "    X = identity_block(X, 3, [64, 64, 256], stage=2, block='c')\n",
    "\n",
    "    X = convolutional_block(X, f=3, filters=[128, 128, 512], stage=3, block='a', s=2)\n",
    "    X = identity_block(X, 3, [128, 128, 512], stage=3, block='b')\n",
    "    X = identity_block(X, 3, [128, 128, 512], stage=3, block='c')\n",
    "    X = identity_block(X, 3, [128, 128, 512], stage=3, block='d')\n",
    "\n",
    "    X = convolutional_block(X, f=3, filters=[256, 256, 1024], stage=4, block='a', s=2)\n",
    "    X = identity_block(X, 3, [256, 256, 1024], stage=4, block='b')\n",
    "    X = identity_block(X, 3, [256, 256, 1024], stage=4, block='c')\n",
    "    X = identity_block(X, 3, [256, 256, 1024], stage=4, block='d')\n",
    "    X = identity_block(X, 3, [256, 256, 1024], stage=4, block='e')\n",
    "    X = identity_block(X, 3, [256, 256, 1024], stage=4, block='f')\n",
    "\n",
    "    X = convolutional_block(X, f=3, filters=[512, 512, 2048], stage=5, block='a', s=2)\n",
    "    X = identity_block(X, 3, [512, 512, 2048], stage=5, block='b')\n",
    "    X = identity_block(X, 3, [512, 512, 2048], stage=5, block='c')\n",
    "\n",
    "    X = AveragePooling2D(pool_size=(2,2), padding='same')(X)\n",
    "    print(int_shape(X))\n",
    "    X = Flatten()(X)\n",
    "    print(int_shape(X))\n",
    "    X = Dense(classes, activation='softmax', name='fc' + str(classes))(X)\n",
    "    \n",
    "    model = Model(inputs = X_input, outputs = X, name='ResNet50')\n",
    "    \n",
    "    return model"
   ]
  },
  {
   "cell_type": "code",
   "execution_count": 16,
   "metadata": {},
   "outputs": [
    {
     "name": "stdout",
     "output_type": "stream",
     "text": [
      "(None, 7, 7, 256)\n",
      "(None, 7, 7, 256)\n",
      "(None, 4, 4, 512)\n",
      "(None, 4, 4, 512)\n",
      "(None, 2, 2, 1024)\n",
      "(None, 2, 2, 1024)\n",
      "(None, 1, 1, 2048)\n",
      "(None, 1, 1, 2048)\n",
      "(None, 1, 1, 2048)\n",
      "(None, 2048)\n"
     ]
    }
   ],
   "source": [
    "model = ResNet50(input_shape = (32, 32, 3), classes = 10)\n",
    "model.compile(optimizer='adam', \n",
    "              loss='categorical_crossentropy',\n",
    "              metrics=['accuracy'])"
   ]
  },
  {
   "cell_type": "code",
   "execution_count": 7,
   "metadata": {},
   "outputs": [],
   "source": [
    "from keras.utils import np_utils\n",
    "(X_train ,Y_train),(X_test,Y_test) = cifar10.load_data()\n",
    "Y_train=np_utils.to_categorical (Y_train)\n",
    "Y_test=np_utils.to_categorical (Y_test)"
   ]
  },
  {
   "cell_type": "code",
   "execution_count": 8,
   "metadata": {},
   "outputs": [
    {
     "name": "stdout",
     "output_type": "stream",
     "text": [
      "(50000, 32, 32, 3)\n",
      "(50000, 10)\n",
      "(10000, 32, 32, 3)\n",
      "(10000, 10)\n"
     ]
    }
   ],
   "source": [
    "print(X_train.shape)\n",
    "print(Y_train.shape)\n",
    "print(X_test.shape)\n",
    "print(Y_test.shape)"
   ]
  },
  {
   "cell_type": "code",
   "execution_count": 9,
   "metadata": {},
   "outputs": [
    {
     "name": "stdout",
     "output_type": "stream",
     "text": [
      "WARNING:tensorflow:From C:\\Users\\Sunrise\\Anaconda3\\lib\\site-packages\\tensorflow\\python\\ops\\math_ops.py:3066: to_int32 (from tensorflow.python.ops.math_ops) is deprecated and will be removed in a future version.\n",
      "Instructions for updating:\n",
      "Use tf.cast instead.\n",
      "Epoch 1/2\n",
      "50000/50000 [==============================] - 1800s 36ms/step - loss: 1.8936 - acc: 0.3730\n",
      "Epoch 2/2\n",
      "50000/50000 [==============================] - 1835s 37ms/step - loss: 1.3611 - acc: 0.5240\n"
     ]
    },
    {
     "data": {
      "text/plain": [
       "<keras.callbacks.History at 0x1f2849a5668>"
      ]
     },
     "execution_count": 9,
     "metadata": {},
     "output_type": "execute_result"
    }
   ],
   "source": [
    "model.fit(X_train, Y_train, epochs = 2, batch_size = 512)"
   ]
  },
  {
   "cell_type": "code",
   "execution_count": 10,
   "metadata": {},
   "outputs": [
    {
     "name": "stdout",
     "output_type": "stream",
     "text": [
      "10000/10000 [==============================] - 113s 11ms/step\n"
     ]
    }
   ],
   "source": [
    "preds = model.evaluate(X_test, Y_test)"
   ]
  },
  {
   "cell_type": "code",
   "execution_count": 11,
   "metadata": {},
   "outputs": [
    {
     "name": "stdout",
     "output_type": "stream",
     "text": [
      "loss14.289706689453125\n",
      "Test Accuracy =0.1015\n"
     ]
    }
   ],
   "source": [
    " print (\"loss\"  + str(preds[0]))\n",
    " print (\"Test Accuracy =\"  + str(preds[1]))"
   ]
  },
  {
   "cell_type": "code",
   "execution_count": null,
   "metadata": {},
   "outputs": [],
   "source": []
  }
 ],
 "metadata": {
  "kernelspec": {
   "display_name": "Python 3",
   "language": "python",
   "name": "python3"
  },
  "language_info": {
   "codemirror_mode": {
    "name": "ipython",
    "version": 3
   },
   "file_extension": ".py",
   "mimetype": "text/x-python",
   "name": "python",
   "nbconvert_exporter": "python",
   "pygments_lexer": "ipython3",
   "version": "3.7.3"
  }
 },
 "nbformat": 4,
 "nbformat_minor": 2
}
